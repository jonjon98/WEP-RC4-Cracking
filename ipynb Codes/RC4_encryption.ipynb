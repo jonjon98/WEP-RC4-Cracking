{
  "nbformat": 4,
  "nbformat_minor": 5,
  "metadata": {
    "colab": {
      "name": "RC4 encryption.ipynb",
      "provenance": [],
      "collapsed_sections": []
    },
    "kernelspec": {
      "display_name": "Python 3 (ipykernel)",
      "language": "python",
      "name": "python3"
    },
    "language_info": {
      "codemirror_mode": {
        "name": "ipython",
        "version": 3
      },
      "file_extension": ".py",
      "mimetype": "text/x-python",
      "name": "python",
      "nbconvert_exporter": "python",
      "pygments_lexer": "ipython3",
      "version": "3.8.12"
    }
  },
  "cells": [
    {
      "cell_type": "markdown",
      "metadata": {
        "id": "oUE435MVfvnU"
      },
      "source": [
        "# **Cracking RC4**\n",
        "\n"
      ],
      "id": "oUE435MVfvnU"
    },
    {
      "cell_type": "code",
      "metadata": {
        "id": "073bc334"
      },
      "source": [
        "import pandas as pd\n",
        "import numpy as np\n",
        "import csv"
      ],
      "id": "073bc334",
      "execution_count": null,
      "outputs": []
    },
    {
      "cell_type": "markdown",
      "metadata": {
        "id": "6n73WuEffpBY"
      },
      "source": [
        "## Helper Functions"
      ],
      "id": "6n73WuEffpBY"
    },
    {
      "cell_type": "code",
      "metadata": {
        "id": "a162b763"
      },
      "source": [
        "#Swap values of two indexes in the State Array\n",
        "def swapValuesStateArray(stateArr, i, j):\n",
        "  temp = stateArr[i]\n",
        "  stateArr[i] = stateArr[j]\n",
        "  stateArr[j] = temp\n",
        "\n",
        "#Initialse the State Array\n",
        "def initSA(stateArr):\n",
        "  if len(stateArr) == 0:\n",
        "    for i in range(256):\n",
        "      stateArr.append(i)\n",
        "\n",
        "  else:            #reset the State Array if there already is elements in it\n",
        "    for i in range(256):\n",
        "      stateArr[i] = i\n",
        "\n",
        "#Key Scheduling Algorithm (KSA)\n",
        "def ksa(key, stateArr):\n",
        "  j = 0\n",
        "  for i in range(256):\n",
        "    j = (j + stateArr[i] + ord(key[i % len(key)])) % 256 #ord returns unicode \n",
        "    swapValuesStateArray(stateArr, i, j)\n",
        "\n",
        "# KSA for key whose value is int\n",
        "def ksaInt(key, stateArr):\n",
        "    j = 0\n",
        "    for i in range(256):\n",
        "        j = (j + stateArr[i] + key[i % len(key)]) % 256\n",
        "        swapValuesStateArray(stateArr, i, j)\n",
        "\n",
        "#Pseudo Random Generator Algorithm (PRGA) for one byte of key stream\n",
        "def prga(stateArr, i, j):\n",
        "  i = (i + 1) % 256 \n",
        "  j = (j + stateArr[i]) % 256\n",
        "  swapValuesStateArray(stateArr, i, j)\n",
        "  keyStreamByte = stateArr[(stateArr[i] + stateArr[j]) % 256]\n",
        "  return keyStreamByte\n",
        "\n",
        "#Pseudo Random Generator Algorithm (PRGA) for full plain text length of key stream\n",
        "def prgaFull(plainText, stateArr):\n",
        "  i = 0\n",
        "  j = 0\n",
        "  keyStream = \"\"\n",
        "  #have to generate a key stream as long as the plain text\n",
        "  for i in range(len(plainText)):\n",
        "    keyStreamByte = prga(stateArr, i, j)\n",
        "    keyStream += chr(keyStreamByte) #chr return string that represents char that's linked to unicode\n",
        "  return keyStream"
      ],
      "id": "a162b763",
      "execution_count": null,
      "outputs": []
    },
    {
      "cell_type": "markdown",
      "metadata": {
        "id": "EKFYlNWS9wXX"
      },
      "source": [
        "## RC4 Encryption and Decryption"
      ],
      "id": "EKFYlNWS9wXX"
    },
    {
      "cell_type": "code",
      "metadata": {
        "colab": {
          "base_uri": "https://localhost:8080/"
        },
        "id": "3OhSy5-T2Mon",
        "outputId": "d13ac251-8a4b-4536-ca06-ca392fcb3202"
      },
      "source": [
        "# Choose your key and plaintext\n",
        "key = \"a1b2c3d4e5f6\"\n",
        "plainText = \"This is a plaintext.\"\n",
        "stateArr = []\n",
        "enc_keyStream = \"\"\n",
        "enc_plainText = \"\"\n",
        "dec_keyStream = \"\"\n",
        "dec_plainText = \"\"\n",
        "\n",
        "#Encryption\n",
        "initSA(stateArr)\n",
        "ksa(key, stateArr)\n",
        "enc_keyStream = prgaFull(plainText, stateArr)\n",
        "for i in range(len(plainText)):\n",
        "    enc_plainText += chr(ord(plainText[i]) ^ ord(enc_keyStream[i]))\n",
        "print(\"encryption: \" + enc_plainText)\n",
        "\n",
        "#Decryption\n",
        "initSA(stateArr)\n",
        "ksa(key, stateArr)\n",
        "dec_keyStream = prgaFull(enc_plainText, stateArr)\n",
        "for i in range(len(enc_plainText)):\n",
        "    dec_plainText += chr(ord(enc_plainText[i]) ^ ord(dec_keyStream[i]))\n",
        "print(\"decryption: \" + dec_plainText)\n",
        "\n",
        "#Correctness Check\n",
        "if(dec_plainText == plainText):\n",
        "    print(\"ARC4 implementation successful\")\n",
        "else:\n",
        "    print(\"Correctness of ARC4 is not vaild, decryption is not equals to plain text\")"
      ],
      "id": "3OhSy5-T2Mon",
      "execution_count": null,
      "outputs": [
        {
          "output_type": "stream",
          "name": "stdout",
          "text": [
            "encryption: 5¯-K¼_FN´ÌvánË\u0001L\n",
            "decryption: This is a plaintext.\n",
            "ARC4 implementation successful\n"
          ]
        }
      ]
    },
    {
      "cell_type": "markdown",
      "metadata": {
        "id": "l-dZXU1bBg0w"
      },
      "source": [
        "## RC4 Packets Generation"
      ],
      "id": "l-dZXU1bBg0w"
    },
    {
      "cell_type": "code",
      "metadata": {
        "colab": {
          "base_uri": "https://localhost:8080/"
        },
        "id": "SB8n4JTF-TkZ",
        "outputId": "75229ef2-60e5-4600-b9f3-d6e67ea555e6"
      },
      "source": [
        "# Choose your key\n",
        "#Only accept hexadecimals as key & multiple of 2 chars\n",
        "WEP_key = \"a1c24d3ce2\"\n",
        "\n",
        "# Clear out what is originally in the file.\n",
        "WEPOutputSim = open(\"WEPOutputSim.csv\", \"w\").close()\n",
        "# Append possible IV and keyStreamByte.\n",
        "WEPOutputSim = open(\"WEPOutputSim.csv\", \"a\")\n",
        "\n",
        "key = []\n",
        "i=0\n",
        "while i < len(WEP_key):\n",
        "  #retrieve each byte of keys(2 characters) and convert to int\n",
        "  keyByte = int(WEP_key[i] + WEP_key[i+1], 16)\n",
        "  key.append(keyByte) \n",
        "  i += 2\n",
        "\n",
        "# Initial IV form\n",
        "IV = [3, 255, 0]\n",
        "sessionKey = IV + key\n",
        "SNAPheader = \"aa\"\n",
        "\n",
        "# A is the number of known key bytes, starts from 0 to the length of key.\n",
        "for A in range(len(key)):\n",
        "  #increase IV's first byte from 0 to length of key\n",
        "  #[3,255,0,a,b,c,d] ... -> [3,255,255,a,b,c,d] ... -> [4,255,0,a,b,c,d]\n",
        "  IV[0] = A + 3\n",
        "\n",
        "  #increase IV's third byte from 0 to 255\n",
        "  #[3,255,0,a,b,c,d]\n",
        "  #[3,255,1,a,b,c,d]\n",
        "  for i in range(256):\n",
        "    IV[2] = i\n",
        "    sessionKey = IV + key\n",
        "\n",
        "    stateArr = []\n",
        "    initSA(stateArr)\n",
        "    ksaInt(sessionKey, stateArr)\n",
        "    i = 0\n",
        "    j = 0\n",
        "    keyStreamByte = prga(stateArr, i, j)\n",
        "\n",
        "    #encrypt SNAPheader with keyStreamByte\n",
        "    cipherByte = int(SNAPheader, 16) ^ keyStreamByte\n",
        "    WEPOutputSim.write(str(IV[0]) + \",\" + str(IV[1]) + \",\" + str(IV[2]) + \",\" + str(cipherByte) + \"\\n\")\n",
        "print(\"WEPOutputSim.csv is generated sucessfully.\")\n"
      ],
      "id": "SB8n4JTF-TkZ",
      "execution_count": null,
      "outputs": [
        {
          "output_type": "stream",
          "name": "stdout",
          "text": [
            "WEPOutputSim.csv is generated sucessfully.\n"
          ]
        }
      ]
    },
    {
      "cell_type": "markdown",
      "metadata": {
        "id": "x2vxC3aoBuCG"
      },
      "source": [
        "## Display Generated Packets"
      ],
      "id": "x2vxC3aoBuCG"
    },
    {
      "cell_type": "code",
      "metadata": {
        "colab": {
          "base_uri": "https://localhost:8080/",
          "height": 423
        },
        "id": "8Gxj_cigW0kR",
        "outputId": "ba678dae-2f70-4df3-d6f8-1b48c5c0e23c"
      },
      "source": [
        "\n",
        "data = pd.read_csv('WEPOutputSim.csv')\n",
        "data"
      ],
      "id": "8Gxj_cigW0kR",
      "execution_count": null,
      "outputs": [
        {
          "output_type": "execute_result",
          "data": {
            "text/html": [
              "<div>\n",
              "<style scoped>\n",
              "    .dataframe tbody tr th:only-of-type {\n",
              "        vertical-align: middle;\n",
              "    }\n",
              "\n",
              "    .dataframe tbody tr th {\n",
              "        vertical-align: top;\n",
              "    }\n",
              "\n",
              "    .dataframe thead th {\n",
              "        text-align: right;\n",
              "    }\n",
              "</style>\n",
              "<table border=\"1\" class=\"dataframe\">\n",
              "  <thead>\n",
              "    <tr style=\"text-align: right;\">\n",
              "      <th></th>\n",
              "      <th>5</th>\n",
              "      <th>255</th>\n",
              "      <th>115</th>\n",
              "      <th>220</th>\n",
              "    </tr>\n",
              "  </thead>\n",
              "  <tbody>\n",
              "    <tr>\n",
              "      <th>0</th>\n",
              "      <td>5</td>\n",
              "      <td>255</td>\n",
              "      <td>116</td>\n",
              "      <td>151</td>\n",
              "    </tr>\n",
              "    <tr>\n",
              "      <th>1</th>\n",
              "      <td>5</td>\n",
              "      <td>255</td>\n",
              "      <td>117</td>\n",
              "      <td>86</td>\n",
              "    </tr>\n",
              "    <tr>\n",
              "      <th>2</th>\n",
              "      <td>5</td>\n",
              "      <td>255</td>\n",
              "      <td>118</td>\n",
              "      <td>15</td>\n",
              "    </tr>\n",
              "    <tr>\n",
              "      <th>3</th>\n",
              "      <td>5</td>\n",
              "      <td>255</td>\n",
              "      <td>119</td>\n",
              "      <td>190</td>\n",
              "    </tr>\n",
              "    <tr>\n",
              "      <th>4</th>\n",
              "      <td>5</td>\n",
              "      <td>255</td>\n",
              "      <td>120</td>\n",
              "      <td>200</td>\n",
              "    </tr>\n",
              "    <tr>\n",
              "      <th>...</th>\n",
              "      <td>...</td>\n",
              "      <td>...</td>\n",
              "      <td>...</td>\n",
              "      <td>...</td>\n",
              "    </tr>\n",
              "    <tr>\n",
              "      <th>1635</th>\n",
              "      <td>7</td>\n",
              "      <td>255</td>\n",
              "      <td>215</td>\n",
              "      <td>232</td>\n",
              "    </tr>\n",
              "    <tr>\n",
              "      <th>1636</th>\n",
              "      <td>7</td>\n",
              "      <td>255</td>\n",
              "      <td>216</td>\n",
              "      <td>213</td>\n",
              "    </tr>\n",
              "    <tr>\n",
              "      <th>1637</th>\n",
              "      <td>7</td>\n",
              "      <td>255</td>\n",
              "      <td>217</td>\n",
              "      <td>110</td>\n",
              "    </tr>\n",
              "    <tr>\n",
              "      <th>1638</th>\n",
              "      <td>7</td>\n",
              "      <td>255</td>\n",
              "      <td>218</td>\n",
              "      <td>190</td>\n",
              "    </tr>\n",
              "    <tr>\n",
              "      <th>1639</th>\n",
              "      <td>7</td>\n",
              "      <td>255</td>\n",
              "      <td>219</td>\n",
              "      <td>84</td>\n",
              "    </tr>\n",
              "  </tbody>\n",
              "</table>\n",
              "<p>1640 rows × 4 columns</p>\n",
              "</div>"
            ],
            "text/plain": [
              "      5  255  115  220\n",
              "0     5  255  116  151\n",
              "1     5  255  117   86\n",
              "2     5  255  118   15\n",
              "3     5  255  119  190\n",
              "4     5  255  120  200\n",
              "...  ..  ...  ...  ...\n",
              "1635  7  255  215  232\n",
              "1636  7  255  216  213\n",
              "1637  7  255  217  110\n",
              "1638  7  255  218  190\n",
              "1639  7  255  219   84\n",
              "\n",
              "[1640 rows x 4 columns]"
            ]
          },
          "metadata": {},
          "execution_count": 24
        }
      ]
    },
    {
      "cell_type": "markdown",
      "metadata": {
        "id": "Ybk1P1GOB0Pm"
      },
      "source": [
        "## Obtain Key by exploiting RC4 vulnerabilities"
      ],
      "id": "Ybk1P1GOB0Pm"
    },
    {
      "cell_type": "code",
      "metadata": {
        "colab": {
          "base_uri": "https://localhost:8080/"
        },
        "id": "sEWD0_wRfRfQ",
        "outputId": "34630a27-8de4-437f-b863-5f86e5bbd5b7"
      },
      "source": [
        "simulatedPackets = pd.read_csv(\"WEPOutputSim.csv\")\n",
        "rows = []\n",
        "stateArr = []\n",
        "SNAPheader = \"aa\"\n",
        "\n",
        "rows = simulatedPackets.to_numpy()\n",
        "\n",
        "keyLength = int(rows[-1][0]) - 3 + 1\n",
        "print(\"keyLength is: \" + str(keyLength))\n",
        "\n",
        "#initialize key to [0, 0, 0]\n",
        "WEP_key = [0] * 3\n",
        "\n",
        "#This for loop recovers each byte of the key, and append the next byte to WEP_key\n",
        "#A is the index of the current byte of key we are working on in this iteration of the loop\n",
        "for A in range(keyLength):\n",
        "    #initialize prob array to all 0, the highest probability in the end will be selected as the byte[A] of pre-shared key\n",
        "    prob = [0] * 256\n",
        "    #Looping through the simulated packets\n",
        "    for row in rows:\n",
        "        #reproduce the first 3 columns of simulated packets\n",
        "        WEP_key[0] = int(row[0])\n",
        "        WEP_key[1] = int(row[1])\n",
        "        WEP_key[2] = int(row[2])\n",
        "\n",
        "        #initialize KSA\n",
        "        j = 0\n",
        "        initSA(stateArr)\n",
        "        # Simulate the S-Box after KSA initialization.\n",
        "        #For loop for each byte of the key\n",
        "        for i in range(A + 3):\n",
        "            j = (j + stateArr[i] + WEP_key[i]) % 256\n",
        "            swapValuesStateArray(stateArr, i, j)\n",
        "\n",
        "        i = A + 3\n",
        "        #z is the first element of the completed stateArr\n",
        "        z = stateArr[0]\n",
        "        # if resolved condition is possibly met.\n",
        "        if z == A + 3:\n",
        "            #XOR the known SNAPheader('AA') with the encrypted 'AA' to get the corresponding byte in keystream\n",
        "            keyStreamByte = int(row[3]) ^ int(SNAPheader, 16)\n",
        "            #retrieve the key byte\n",
        "            keyByte = (keyStreamByte - j - stateArr[i]) % 256\n",
        "            prob[keyByte] += 1\n",
        "    # Assume that the most hit is the correct password.\n",
        "    highestProbability = prob.index(max(prob))\n",
        "    WEP_key.append(highestProbability)\n",
        "\n",
        "# Get rid of first 24-bit initialization vector.\n",
        "userInput = WEP_key[3:]\n",
        "result = [format(WEP_key, 'x') for WEP_key in userInput]\n",
        "rawkey = ''.join(result).upper()\n",
        "print(rawkey)"
      ],
      "id": "sEWD0_wRfRfQ",
      "execution_count": null,
      "outputs": [
        {
          "output_type": "stream",
          "name": "stdout",
          "text": [
            "keyLength is: 5\n",
            "A1C24D3CE2\n"
          ]
        }
      ]
    }
  ]
}